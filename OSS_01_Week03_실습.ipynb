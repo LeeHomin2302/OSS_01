{
  "nbformat": 4,
  "nbformat_minor": 0,
  "metadata": {
    "colab": {
      "provenance": []
    },
    "kernelspec": {
      "name": "python3",
      "display_name": "Python 3"
    },
    "language_info": {
      "name": "python"
    }
  },
  "cells": [
    {
      "cell_type": "code",
      "execution_count": 1,
      "metadata": {
        "colab": {
          "base_uri": "https://localhost:8080/"
        },
        "id": "K9wA7fepa3Cg",
        "outputId": "290d5021-0f63-4645-ee16-29afa84510b6"
      },
      "outputs": [
        {
          "output_type": "stream",
          "name": "stdout",
          "text": [
            "Value for 3\n",
            "Value for 3\n"
          ]
        }
      ],
      "source": [
        "#예제 1번\n",
        "class MyCollection:\n",
        "    def __getitem__(self, key):\n",
        "        return f\"Value for {key}\"\n",
        "\n",
        "collection = MyCollection()\n",
        "print(collection.__getitem__(3))\n",
        "print(collection[3])\n"
      ]
    },
    {
      "cell_type": "code",
      "source": [
        "#예제 2번\n",
        "import collections\n",
        "\n",
        "Card = collections.namedtuple('Card', ['rank', 'suit'])\n",
        "\n",
        "class FrenchDeck:\n",
        "    ranks = [str(n) for n in range(2, 11)] + list('JQKA')\n",
        "    suits = 'spades diamonds clubs hearts'.split()\n",
        "\n",
        "    def __init__(self):\n",
        "        self._cards = [Card(rank, suit) for suit in self.suits for rank in self.ranks]\n",
        "\n",
        "    def __len__(self):\n",
        "        return len(self._cards)\n",
        "\n",
        "    def __getitem__(self, position):\n",
        "        return self._cards[position]\n"
      ],
      "metadata": {
        "id": "Kz-Uu01pa3o_"
      },
      "execution_count": 2,
      "outputs": []
    },
    {
      "cell_type": "code",
      "source": [
        "#예제 3번\n",
        "beer_card = Card('7', 'diamonds')\n",
        "beer_card\n",
        "\n",
        "Card(rank = '7', suit = 'diamonds')"
      ],
      "metadata": {
        "colab": {
          "base_uri": "https://localhost:8080/"
        },
        "id": "U6BCJCpUa3ro",
        "outputId": "99136c50-eb8d-47f6-e1d4-a8b4157b93fb"
      },
      "execution_count": 3,
      "outputs": [
        {
          "output_type": "execute_result",
          "data": {
            "text/plain": [
              "Card(rank='7', suit='diamonds')"
            ]
          },
          "metadata": {},
          "execution_count": 3
        }
      ]
    },
    {
      "cell_type": "code",
      "source": [
        "#예제 4번\n",
        "deck = FrenchDeck()\n",
        "print(f\"Ranks: {deck.ranks}\")\n",
        "print(f\"len: {len(deck)}\")"
      ],
      "metadata": {
        "colab": {
          "base_uri": "https://localhost:8080/"
        },
        "id": "u4E7Dy24a3t3",
        "outputId": "da8de769-d308-4c5f-9d8b-85b5ef79cec6"
      },
      "execution_count": 4,
      "outputs": [
        {
          "output_type": "stream",
          "name": "stdout",
          "text": [
            "Ranks: ['2', '3', '4', '5', '6', '7', '8', '9', '10', 'J', 'Q', 'K', 'A']\n",
            "len: 52\n"
          ]
        }
      ]
    },
    {
      "cell_type": "code",
      "source": [
        "#예제 5번\n",
        "print(deck[0])\n",
        "print(deck[-1])"
      ],
      "metadata": {
        "colab": {
          "base_uri": "https://localhost:8080/"
        },
        "id": "TV28E8upa3wP",
        "outputId": "316e6189-0eed-491b-9316-5371e9360ebe"
      },
      "execution_count": 5,
      "outputs": [
        {
          "output_type": "stream",
          "name": "stdout",
          "text": [
            "Card(rank='2', suit='spades')\n",
            "Card(rank='A', suit='hearts')\n"
          ]
        }
      ]
    },
    {
      "cell_type": "code",
      "source": [
        "#예제 6번\n",
        "from random import choice\n",
        "print(choice(deck))\n",
        "print(choice(deck))\n",
        "print(choice(deck))"
      ],
      "metadata": {
        "colab": {
          "base_uri": "https://localhost:8080/"
        },
        "id": "WJwtx3cja3yg",
        "outputId": "0eac5727-515c-4b20-858a-892799e8d072"
      },
      "execution_count": 6,
      "outputs": [
        {
          "output_type": "stream",
          "name": "stdout",
          "text": [
            "Card(rank='4', suit='spades')\n",
            "Card(rank='9', suit='diamonds')\n",
            "Card(rank='8', suit='spades')\n"
          ]
        }
      ]
    },
    {
      "cell_type": "code",
      "source": [
        "#예제 7번\n",
        "deck[:3]"
      ],
      "metadata": {
        "colab": {
          "base_uri": "https://localhost:8080/"
        },
        "id": "SG3bvdPoa34p",
        "outputId": "024d4f64-bf1d-4be7-9d8b-2f9f91c620dc"
      },
      "execution_count": 7,
      "outputs": [
        {
          "output_type": "execute_result",
          "data": {
            "text/plain": [
              "[Card(rank='2', suit='spades'),\n",
              " Card(rank='3', suit='spades'),\n",
              " Card(rank='4', suit='spades')]"
            ]
          },
          "metadata": {},
          "execution_count": 7
        }
      ]
    },
    {
      "cell_type": "code",
      "source": [
        "#예제 8번\n",
        "deck[12::13]"
      ],
      "metadata": {
        "colab": {
          "base_uri": "https://localhost:8080/"
        },
        "id": "necXS-i8a4GA",
        "outputId": "f37aee26-71b8-4ef9-c008-be764e153f90"
      },
      "execution_count": 8,
      "outputs": [
        {
          "output_type": "execute_result",
          "data": {
            "text/plain": [
              "[Card(rank='A', suit='spades'),\n",
              " Card(rank='A', suit='diamonds'),\n",
              " Card(rank='A', suit='clubs'),\n",
              " Card(rank='A', suit='hearts')]"
            ]
          },
          "metadata": {},
          "execution_count": 8
        }
      ]
    },
    {
      "cell_type": "code",
      "source": [
        "#예제 9번\n",
        "for card in deck:\n",
        "    print(card)\n"
      ],
      "metadata": {
        "colab": {
          "base_uri": "https://localhost:8080/"
        },
        "id": "L3f4YIX8a4Jg",
        "outputId": "40fad3d0-daa2-40fa-8243-2426306f9670"
      },
      "execution_count": 9,
      "outputs": [
        {
          "output_type": "stream",
          "name": "stdout",
          "text": [
            "Card(rank='2', suit='spades')\n",
            "Card(rank='3', suit='spades')\n",
            "Card(rank='4', suit='spades')\n",
            "Card(rank='5', suit='spades')\n",
            "Card(rank='6', suit='spades')\n",
            "Card(rank='7', suit='spades')\n",
            "Card(rank='8', suit='spades')\n",
            "Card(rank='9', suit='spades')\n",
            "Card(rank='10', suit='spades')\n",
            "Card(rank='J', suit='spades')\n",
            "Card(rank='Q', suit='spades')\n",
            "Card(rank='K', suit='spades')\n",
            "Card(rank='A', suit='spades')\n",
            "Card(rank='2', suit='diamonds')\n",
            "Card(rank='3', suit='diamonds')\n",
            "Card(rank='4', suit='diamonds')\n",
            "Card(rank='5', suit='diamonds')\n",
            "Card(rank='6', suit='diamonds')\n",
            "Card(rank='7', suit='diamonds')\n",
            "Card(rank='8', suit='diamonds')\n",
            "Card(rank='9', suit='diamonds')\n",
            "Card(rank='10', suit='diamonds')\n",
            "Card(rank='J', suit='diamonds')\n",
            "Card(rank='Q', suit='diamonds')\n",
            "Card(rank='K', suit='diamonds')\n",
            "Card(rank='A', suit='diamonds')\n",
            "Card(rank='2', suit='clubs')\n",
            "Card(rank='3', suit='clubs')\n",
            "Card(rank='4', suit='clubs')\n",
            "Card(rank='5', suit='clubs')\n",
            "Card(rank='6', suit='clubs')\n",
            "Card(rank='7', suit='clubs')\n",
            "Card(rank='8', suit='clubs')\n",
            "Card(rank='9', suit='clubs')\n",
            "Card(rank='10', suit='clubs')\n",
            "Card(rank='J', suit='clubs')\n",
            "Card(rank='Q', suit='clubs')\n",
            "Card(rank='K', suit='clubs')\n",
            "Card(rank='A', suit='clubs')\n",
            "Card(rank='2', suit='hearts')\n",
            "Card(rank='3', suit='hearts')\n",
            "Card(rank='4', suit='hearts')\n",
            "Card(rank='5', suit='hearts')\n",
            "Card(rank='6', suit='hearts')\n",
            "Card(rank='7', suit='hearts')\n",
            "Card(rank='8', suit='hearts')\n",
            "Card(rank='9', suit='hearts')\n",
            "Card(rank='10', suit='hearts')\n",
            "Card(rank='J', suit='hearts')\n",
            "Card(rank='Q', suit='hearts')\n",
            "Card(rank='K', suit='hearts')\n",
            "Card(rank='A', suit='hearts')\n"
          ]
        }
      ]
    },
    {
      "cell_type": "code",
      "source": [
        "#예제 10번\n",
        "for card in reversed(deck):\n",
        "    print(card)"
      ],
      "metadata": {
        "colab": {
          "base_uri": "https://localhost:8080/"
        },
        "id": "LYCFd9SSa4MP",
        "outputId": "8a62eb93-8d29-4059-b7e2-8644cc05b721"
      },
      "execution_count": 10,
      "outputs": [
        {
          "output_type": "stream",
          "name": "stdout",
          "text": [
            "Card(rank='A', suit='hearts')\n",
            "Card(rank='K', suit='hearts')\n",
            "Card(rank='Q', suit='hearts')\n",
            "Card(rank='J', suit='hearts')\n",
            "Card(rank='10', suit='hearts')\n",
            "Card(rank='9', suit='hearts')\n",
            "Card(rank='8', suit='hearts')\n",
            "Card(rank='7', suit='hearts')\n",
            "Card(rank='6', suit='hearts')\n",
            "Card(rank='5', suit='hearts')\n",
            "Card(rank='4', suit='hearts')\n",
            "Card(rank='3', suit='hearts')\n",
            "Card(rank='2', suit='hearts')\n",
            "Card(rank='A', suit='clubs')\n",
            "Card(rank='K', suit='clubs')\n",
            "Card(rank='Q', suit='clubs')\n",
            "Card(rank='J', suit='clubs')\n",
            "Card(rank='10', suit='clubs')\n",
            "Card(rank='9', suit='clubs')\n",
            "Card(rank='8', suit='clubs')\n",
            "Card(rank='7', suit='clubs')\n",
            "Card(rank='6', suit='clubs')\n",
            "Card(rank='5', suit='clubs')\n",
            "Card(rank='4', suit='clubs')\n",
            "Card(rank='3', suit='clubs')\n",
            "Card(rank='2', suit='clubs')\n",
            "Card(rank='A', suit='diamonds')\n",
            "Card(rank='K', suit='diamonds')\n",
            "Card(rank='Q', suit='diamonds')\n",
            "Card(rank='J', suit='diamonds')\n",
            "Card(rank='10', suit='diamonds')\n",
            "Card(rank='9', suit='diamonds')\n",
            "Card(rank='8', suit='diamonds')\n",
            "Card(rank='7', suit='diamonds')\n",
            "Card(rank='6', suit='diamonds')\n",
            "Card(rank='5', suit='diamonds')\n",
            "Card(rank='4', suit='diamonds')\n",
            "Card(rank='3', suit='diamonds')\n",
            "Card(rank='2', suit='diamonds')\n",
            "Card(rank='A', suit='spades')\n",
            "Card(rank='K', suit='spades')\n",
            "Card(rank='Q', suit='spades')\n",
            "Card(rank='J', suit='spades')\n",
            "Card(rank='10', suit='spades')\n",
            "Card(rank='9', suit='spades')\n",
            "Card(rank='8', suit='spades')\n",
            "Card(rank='7', suit='spades')\n",
            "Card(rank='6', suit='spades')\n",
            "Card(rank='5', suit='spades')\n",
            "Card(rank='4', suit='spades')\n",
            "Card(rank='3', suit='spades')\n",
            "Card(rank='2', suit='spades')\n"
          ]
        }
      ]
    },
    {
      "cell_type": "code",
      "source": [
        "#예제 11번\n",
        "suit_values = dict(spades=3, hearts=2, diamonds=1, clubs=0)\n",
        "\n",
        "def spades_high(card):\n",
        "    rank_value = FrenchDeck.ranks.index(card.rank)\n",
        "    return rank_value * len(suit_values) + suit_values[card.suit]\n",
        "\n",
        "spades_high(beer_card)\n",
        "\n",
        "for card in sorted(deck, key=spades_high):\n",
        "    print('The rank of {} is {}.'.format(card, spades_high(card)))"
      ],
      "metadata": {
        "colab": {
          "base_uri": "https://localhost:8080/"
        },
        "id": "RUizkrnMa4O4",
        "outputId": "d8d906b9-8cc7-404e-ae8d-426606abc3c6"
      },
      "execution_count": 11,
      "outputs": [
        {
          "output_type": "stream",
          "name": "stdout",
          "text": [
            "The rank of Card(rank='2', suit='clubs') is 0.\n",
            "The rank of Card(rank='2', suit='diamonds') is 1.\n",
            "The rank of Card(rank='2', suit='hearts') is 2.\n",
            "The rank of Card(rank='2', suit='spades') is 3.\n",
            "The rank of Card(rank='3', suit='clubs') is 4.\n",
            "The rank of Card(rank='3', suit='diamonds') is 5.\n",
            "The rank of Card(rank='3', suit='hearts') is 6.\n",
            "The rank of Card(rank='3', suit='spades') is 7.\n",
            "The rank of Card(rank='4', suit='clubs') is 8.\n",
            "The rank of Card(rank='4', suit='diamonds') is 9.\n",
            "The rank of Card(rank='4', suit='hearts') is 10.\n",
            "The rank of Card(rank='4', suit='spades') is 11.\n",
            "The rank of Card(rank='5', suit='clubs') is 12.\n",
            "The rank of Card(rank='5', suit='diamonds') is 13.\n",
            "The rank of Card(rank='5', suit='hearts') is 14.\n",
            "The rank of Card(rank='5', suit='spades') is 15.\n",
            "The rank of Card(rank='6', suit='clubs') is 16.\n",
            "The rank of Card(rank='6', suit='diamonds') is 17.\n",
            "The rank of Card(rank='6', suit='hearts') is 18.\n",
            "The rank of Card(rank='6', suit='spades') is 19.\n",
            "The rank of Card(rank='7', suit='clubs') is 20.\n",
            "The rank of Card(rank='7', suit='diamonds') is 21.\n",
            "The rank of Card(rank='7', suit='hearts') is 22.\n",
            "The rank of Card(rank='7', suit='spades') is 23.\n",
            "The rank of Card(rank='8', suit='clubs') is 24.\n",
            "The rank of Card(rank='8', suit='diamonds') is 25.\n",
            "The rank of Card(rank='8', suit='hearts') is 26.\n",
            "The rank of Card(rank='8', suit='spades') is 27.\n",
            "The rank of Card(rank='9', suit='clubs') is 28.\n",
            "The rank of Card(rank='9', suit='diamonds') is 29.\n",
            "The rank of Card(rank='9', suit='hearts') is 30.\n",
            "The rank of Card(rank='9', suit='spades') is 31.\n",
            "The rank of Card(rank='10', suit='clubs') is 32.\n",
            "The rank of Card(rank='10', suit='diamonds') is 33.\n",
            "The rank of Card(rank='10', suit='hearts') is 34.\n",
            "The rank of Card(rank='10', suit='spades') is 35.\n",
            "The rank of Card(rank='J', suit='clubs') is 36.\n",
            "The rank of Card(rank='J', suit='diamonds') is 37.\n",
            "The rank of Card(rank='J', suit='hearts') is 38.\n",
            "The rank of Card(rank='J', suit='spades') is 39.\n",
            "The rank of Card(rank='Q', suit='clubs') is 40.\n",
            "The rank of Card(rank='Q', suit='diamonds') is 41.\n",
            "The rank of Card(rank='Q', suit='hearts') is 42.\n",
            "The rank of Card(rank='Q', suit='spades') is 43.\n",
            "The rank of Card(rank='K', suit='clubs') is 44.\n",
            "The rank of Card(rank='K', suit='diamonds') is 45.\n",
            "The rank of Card(rank='K', suit='hearts') is 46.\n",
            "The rank of Card(rank='K', suit='spades') is 47.\n",
            "The rank of Card(rank='A', suit='clubs') is 48.\n",
            "The rank of Card(rank='A', suit='diamonds') is 49.\n",
            "The rank of Card(rank='A', suit='hearts') is 50.\n",
            "The rank of Card(rank='A', suit='spades') is 51.\n"
          ]
        }
      ]
    },
    {
      "cell_type": "code",
      "source": [
        "#예제 12번\n",
        "from math import hypot\n",
        "\n",
        "class Vector:\n",
        "    def __init__(self, x=0, y=0):\n",
        "        self.x = x\n",
        "        self.y = y\n",
        "\n",
        "    def __repr__(self):\n",
        "        return 'Vector(%r, %r)' % (self.x, self.y)\n",
        "\n",
        "    def __abs__(self):\n",
        "        return hypot(self.x, self.y)\n",
        "\n",
        "    def __bool__(self):\n",
        "        return bool(abs(self))\n",
        "\n",
        "    def __add__(self, other):\n",
        "        x = self.x + other.x\n",
        "        y = self.y + other.y\n",
        "        return Vector(x, y)\n",
        "\n",
        "    def __mul__(self, scalar):\n",
        "        return Vector(self.x * scalar, self.y * scalar)\n",
        "\n",
        "v = Vector(3, 4)\n",
        "abs(v)\n",
        "\n",
        "v * 3\n",
        "abs(v * 3)\n",
        "\n",
        "v1 = Vector(2, 4)\n",
        "v2 = Vector(2, 1)\n",
        "v1 + v2\n",
        "\n",
        "Vector(4, 5)\n",
        "\n",
        "#예제 13번\n",
        "v"
      ],
      "metadata": {
        "colab": {
          "base_uri": "https://localhost:8080/"
        },
        "id": "je2399ECa4To",
        "outputId": "28869c09-cad9-4828-cf76-b4aea55863b6"
      },
      "execution_count": 15,
      "outputs": [
        {
          "output_type": "execute_result",
          "data": {
            "text/plain": [
              "Vector(3, 4)"
            ]
          },
          "metadata": {},
          "execution_count": 15
        }
      ]
    }
  ]
}