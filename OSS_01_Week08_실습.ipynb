{
  "nbformat": 4,
  "nbformat_minor": 0,
  "metadata": {
    "colab": {
      "provenance": []
    },
    "kernelspec": {
      "name": "python3",
      "display_name": "Python 3"
    },
    "language_info": {
      "name": "python"
    }
  },
  "cells": [
    {
      "cell_type": "code",
      "execution_count": 1,
      "metadata": {
        "id": "Q142R2eSL2Z6"
      },
      "outputs": [],
      "source": [
        "#예제 1번\n",
        "from abc import ABC, abstractmethod\n",
        "from collections import namedtuple\n",
        "\n",
        "Customer = namedtuple('Customer', 'name fidelity')\n",
        "\n",
        "park = Customer('Park', 100)\n",
        "park\n",
        "\n",
        "class LineItem:\n",
        "  def __init__(self, product, quantity, price):\n",
        "    self.product = product\n",
        "    self.quantity = quantity\n",
        "    self.price = price\n",
        "\n",
        "  def total(self):\n",
        "    return self.price * self.quantity\n",
        "\n",
        "class Order:\n",
        "  def __init__(self, customer, cart, promotion = None):\n",
        "    self.customer = customer\n",
        "    self.cart = list(cart)\n",
        "    self.promotion = promotion\n",
        "\n",
        "  def total(self):\n",
        "    if not hasattr(self, '_total'):\n",
        "      self._total = sum(item.total() for item in self.cart)\n",
        "    return self._total\n",
        "\n",
        "  def due(self):\n",
        "    if self.promotion is None:\n",
        "      discount = 0\n",
        "    else:\n",
        "      discount = self.promotion.discount(self)\n",
        "    return self.total() - discount\n",
        "\n",
        "  def __repr__(self):\n",
        "    fmt = '<Order total: {:.2f} due: {:.2f}>'\n",
        "    return fmt.format(self.total(), self.due())\n",
        "\n",
        "class Promotion(ABC):\n",
        "  @abstractmethod\n",
        "  def discount(self, order):\n",
        "     pass\n",
        "\n",
        "class FidelityPromo(Promotion):\n",
        "  def discount(self, order):\n",
        "    return order.total() * 0.05 if order.customer.fidelity >= 1000 else 0\n",
        "\n",
        "class BulkItemPromo(Promotion):\n",
        "\n",
        "  def discount(self, order):\n",
        "\n",
        "   discount = 0\n",
        "   for item in order.cart:\n",
        "      if item.quantity >= 20:\n",
        "        discount += item.total() * 0.1\n",
        "      return discount\n",
        "\n",
        "class LargeOrderPromo(Promotion):\n",
        "  def discount(self, order):\n",
        "    distinct_items = {item.product for item in order.cart}\n",
        "    if len(distinct_items) >= 10:\n",
        "      return order.total() * 0.07\n",
        "    return 0\n",
        "\n"
      ]
    },
    {
      "cell_type": "code",
      "source": [
        "#예제 2번\n",
        "joe = Customer('John Doe', 0)\n",
        "ann = Customer('Ann Smith', 1100)\n",
        "cart = [LineItem('banana', 4, .5),\n",
        "        LineItem('apple', 10, 1.5),\n",
        "        LineItem('watermellon', 5, 5.0)]\n",
        "\n",
        "Order(joe, cart, FidelityPromo())\n",
        "Order(ann, cart, FidelityPromo())\n",
        "\n",
        "banana_cart = [LineItem('banana', 30,.5),\n",
        "               LineItem('apple', 10, 1.5)]\n",
        "\n",
        "Order(joe, banana_cart, BulkItemPromo())\n",
        "\n",
        "long_order = [LineItem(str(item_code), 1, 1.0) for item_code in range(10)]\n",
        "\n",
        "Order(joe, long_order, LargeOrderPromo())\n",
        "\n",
        "Order(joe, cart, LargeOrderPromo())"
      ],
      "metadata": {
        "colab": {
          "base_uri": "https://localhost:8080/"
        },
        "id": "m4SM-X2kPKSl",
        "outputId": "03c227ef-6c50-4c98-9f95-0d51a5247233"
      },
      "execution_count": 2,
      "outputs": [
        {
          "output_type": "execute_result",
          "data": {
            "text/plain": [
              "<Order total: 42.00 due: 42.00>"
            ]
          },
          "metadata": {},
          "execution_count": 2
        }
      ]
    },
    {
      "cell_type": "code",
      "source": [
        "#예제 3번\n",
        "class Order:\n",
        "  def __init__(self, customer, cart, promotion=None):\n",
        "    self.customer = customer\n",
        "    self.cart = list(cart)\n",
        "    self.promotion = promotion\n",
        "\n",
        "  def total(self):\n",
        "    if not hasattr(self, '_total'):\n",
        "      self._total = sum(item.total() for item in self.cart)\n",
        "    return self._total\n",
        "\n",
        "  def due(self):\n",
        "    if self.promotion is None:\n",
        "      discount = 0\n",
        "    else:\n",
        "      discount = self.promotion(self)\n",
        "    return self.total() - discount\n",
        "\n",
        "  def __repr__(self):\n",
        "    fmt = '<Order total: {:.2f} due: {:.2f}>'\n",
        "    return fmt.format(self.total(), self.due())\n",
        "\n",
        "def fidelity_promo(order):\n",
        "  return order.total() * 0.05 if order.customer.fidelity >= 1000 else 0\n",
        "\n",
        "def bulk_item_promo(order):\n",
        "  discount = 0\n",
        "  for item in order.cart:\n",
        "    if item.quantity >= 20:\n",
        "      discount += item.total() * 0.1\n",
        "  return discount\n",
        "\n",
        "def large_order_promo(order):\n",
        "  distinct_items = {item.product for item in order.cart}\n",
        "  if len(distinct_items) >= 10:\n",
        "    return order.total() * 0.07\n",
        "  return 0\n",
        "\n",
        "Order(joe, cart, fidelity_promo)\n",
        "\n",
        "Order(ann, cart, fidelity_promo)\n",
        "\n",
        "Order(joe, banana_cart, bulk_item_promo)\n",
        "\n",
        "Order(ann, long_order, large_order_promo)"
      ],
      "metadata": {
        "colab": {
          "base_uri": "https://localhost:8080/"
        },
        "id": "0xYrJunQQTkM",
        "outputId": "0154befa-2de1-4d49-ab4b-01fae292f1bb"
      },
      "execution_count": 3,
      "outputs": [
        {
          "output_type": "execute_result",
          "data": {
            "text/plain": [
              "<Order total: 10.00 due: 9.30>"
            ]
          },
          "metadata": {},
          "execution_count": 3
        }
      ]
    },
    {
      "cell_type": "code",
      "source": [
        "#예제 4번\n",
        "promos = [fidelity_promo, bulk_item_promo, large_order_promo]\n",
        "\n",
        "def best_promo(order):\n",
        "  return max(promo(order) for promo in promos)\n",
        "\n",
        "#에제 5번\n",
        "Order(joe, long_order, best_promo)\n",
        "\n",
        "Order(joe, banana_cart, best_promo)\n",
        "\n",
        "Order(ann,cart, best_promo)"
      ],
      "metadata": {
        "colab": {
          "base_uri": "https://localhost:8080/"
        },
        "id": "q3y_VsJfQTqj",
        "outputId": "88f4638d-e726-439a-d414-37e1cc1d03d1"
      },
      "execution_count": 4,
      "outputs": [
        {
          "output_type": "execute_result",
          "data": {
            "text/plain": [
              "<Order total: 42.00 due: 39.90>"
            ]
          },
          "metadata": {},
          "execution_count": 4
        }
      ]
    },
    {
      "cell_type": "code",
      "source": [
        "#예제 6번\n",
        "globals().keys()\n",
        "\n",
        "\n",
        "promos = [globals()[name] for name in globals()\n",
        "          if name.endswith('_promo')\n",
        "          and name != 'best_promo']\n",
        "promos"
      ],
      "metadata": {
        "colab": {
          "base_uri": "https://localhost:8080/"
        },
        "id": "GVrcjqwyQT0D",
        "outputId": "d0e2eee3-e214-4757-cf34-0e8ac3b02ee0"
      },
      "execution_count": 5,
      "outputs": [
        {
          "output_type": "execute_result",
          "data": {
            "text/plain": [
              "[<function __main__.fidelity_promo(order)>,\n",
              " <function __main__.bulk_item_promo(order)>,\n",
              " <function __main__.large_order_promo(order)>]"
            ]
          },
          "metadata": {},
          "execution_count": 5
        }
      ]
    }
  ]
}